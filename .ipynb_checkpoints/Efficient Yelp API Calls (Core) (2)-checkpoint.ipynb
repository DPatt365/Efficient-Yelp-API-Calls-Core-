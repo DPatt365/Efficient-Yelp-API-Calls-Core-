{
 "cells": [
  {
   "cell_type": "code",
   "execution_count": 1,
   "id": "7bef3966",
   "metadata": {},
   "outputs": [],
   "source": [
    "# Standard Imports\n",
    "import numpy as np\n",
    "import pandas as pd\n",
    "import matplotlib.pyplot as plt\n",
    "import seaborn as sns\n",
    "# Additional Imports\n",
    "import os, json, math, time\n",
    "from yelpapi import YelpAPI\n",
    "from tqdm.notebook import tqdm_notebook"
   ]
  },
  {
   "cell_type": "code",
   "execution_count": 2,
   "id": "dffc4f7c",
   "metadata": {},
   "outputs": [
    {
     "name": "stdout",
     "output_type": "stream",
     "text": [
      "Requirement already satisfied: yelpapi in /Users/dpatt/anaconda3/envs/dojo-env/lib/python3.9/site-packages (2.5.0)\n",
      "Requirement already satisfied: requests in /Users/dpatt/anaconda3/envs/dojo-env/lib/python3.9/site-packages (from yelpapi) (2.28.1)\n",
      "Requirement already satisfied: urllib3<1.27,>=1.21.1 in /Users/dpatt/anaconda3/envs/dojo-env/lib/python3.9/site-packages (from requests->yelpapi) (1.26.13)\n",
      "Requirement already satisfied: idna<4,>=2.5 in /Users/dpatt/anaconda3/envs/dojo-env/lib/python3.9/site-packages (from requests->yelpapi) (3.4)\n",
      "Requirement already satisfied: charset-normalizer<3,>=2 in /Users/dpatt/anaconda3/envs/dojo-env/lib/python3.9/site-packages (from requests->yelpapi) (2.0.4)\n",
      "Requirement already satisfied: certifi>=2017.4.17 in /Users/dpatt/anaconda3/envs/dojo-env/lib/python3.9/site-packages (from requests->yelpapi) (2022.9.24)\n",
      "Requirement already satisfied: tqdm in /Users/dpatt/anaconda3/envs/dojo-env/lib/python3.9/site-packages (4.64.1)\n"
     ]
    }
   ],
   "source": [
    "!pip install yelpapi\n",
    "!pip install tqdm"
   ]
  },
  {
   "cell_type": "code",
   "execution_count": 4,
   "id": "824903b1",
   "metadata": {},
   "outputs": [
    {
     "data": {
      "text/plain": [
       "dict_keys(['client-id', 'api-key'])"
      ]
     },
     "execution_count": 4,
     "metadata": {},
     "output_type": "execute_result"
    }
   ],
   "source": [
    "# Load API Credentials\n",
    "with open('/Users/dpatt/.secret/yelp_api.json') as f:   #use your path here!\n",
    "    login = json.load(f)\n",
    "login.keys()"
   ]
  },
  {
   "cell_type": "code",
   "execution_count": 6,
   "id": "04e9c870",
   "metadata": {},
   "outputs": [],
   "source": [
    "# Instantiate YelpAPI Variable\n",
    "yelp_api = YelpAPI(login['api-key'], timeout_s=5.0)\n"
   ]
  },
  {
   "cell_type": "code",
   "execution_count": 7,
   "id": "de9e428a",
   "metadata": {},
   "outputs": [],
   "source": [
    "# set our API call parameters \n",
    "LOCATION = 'LA,CA'\n",
    "TERM = 'Burritos'"
   ]
  },
  {
   "cell_type": "code",
   "execution_count": 8,
   "id": "79d90493",
   "metadata": {},
   "outputs": [
    {
     "data": {
      "text/plain": [
       "'Data/results_in_progress_CA_burritos.json'"
      ]
     },
     "execution_count": 8,
     "metadata": {},
     "output_type": "execute_result"
    }
   ],
   "source": [
    "# Specifying JSON_FILE filename (can include a folder)\n",
    "# include the search terms in the filename\n",
    "JSON_FILE = \"Data/results_in_progress_CA_burritos.json\"\n",
    "JSON_FILE"
   ]
  },
  {
   "cell_type": "code",
   "execution_count": 9,
   "id": "19cdb276",
   "metadata": {},
   "outputs": [
    {
     "name": "stdout",
     "output_type": "stream",
     "text": [
      "[i] Data/results_in_progress_CA_burritos.json not found. Saving empty list to file.\n"
     ]
    }
   ],
   "source": [
    "## Check if JSON_FILE exists\n",
    "file_exists = os.path.isfile(JSON_FILE)\n",
    "## If it does not exist: \n",
    "if file_exists == False:\n",
    "    \n",
    "    ## CREATE ANY NEEDED FOLDERS\n",
    "    # Get the Folder Name only\n",
    "    folder = os.path.dirname(JSON_FILE)\n",
    "    ## If JSON_FILE included a folder:\n",
    "    if len(folder)>0:\n",
    "        # create the folder\n",
    "        os.makedirs(folder,exist_ok=True)\n",
    "        \n",
    "        \n",
    "    ## INFORM USER AND SAVE EMPTY LIST\n",
    "    print(f'[i] {JSON_FILE} not found. Saving empty list to file.')\n",
    "    \n",
    "    \n",
    "    # save an empty list\n",
    "    with open(JSON_FILE,'w') as f:\n",
    "        json.dump([],f)  \n",
    "# If it exists, inform user\n",
    "else:\n",
    "    print(f\"[i] {JSON_FILE} already exists.\")"
   ]
  },
  {
   "cell_type": "code",
   "execution_count": 10,
   "id": "ba92446b",
   "metadata": {},
   "outputs": [
    {
     "name": "stdout",
     "output_type": "stream",
     "text": [
      "- 0 previous results found.\n"
     ]
    }
   ],
   "source": [
    "## Load previous results and use len of results for offset\n",
    "with open(JSON_FILE,'r') as f:\n",
    "    previous_results = json.load(f)\n",
    "    \n",
    "## set offset based on previous results\n",
    "n_results = len(previous_results)\n",
    "print(f'- {n_results} previous results found.')"
   ]
  },
  {
   "cell_type": "code",
   "execution_count": 11,
   "id": "bc290958",
   "metadata": {},
   "outputs": [
    {
     "data": {
      "text/plain": [
       "dict_keys(['businesses', 'total', 'region'])"
      ]
     },
     "execution_count": 11,
     "metadata": {},
     "output_type": "execute_result"
    }
   ],
   "source": [
    "# use our yelp_api variable's search_query method to perform our API call\n",
    "results = yelp_api.search_query(location=LOCATION,\n",
    "                                term=TERM,\n",
    "                               offset=n_results)\n",
    "results.keys()"
   ]
  },
  {
   "cell_type": "code",
   "execution_count": 12,
   "id": "76da07eb",
   "metadata": {},
   "outputs": [
    {
     "data": {
      "text/plain": [
       "13400"
      ]
     },
     "execution_count": 12,
     "metadata": {},
     "output_type": "execute_result"
    }
   ],
   "source": [
    "## How many results total?\n",
    "total_results = results['total']\n",
    "total_results"
   ]
  },
  {
   "cell_type": "code",
   "execution_count": 13,
   "id": "22bdeb63",
   "metadata": {},
   "outputs": [
    {
     "data": {
      "text/plain": [
       "20"
      ]
     },
     "execution_count": 13,
     "metadata": {},
     "output_type": "execute_result"
    }
   ],
   "source": [
    "## How many did we get the details for?\n",
    "results_per_page = len(results['businesses'])\n",
    "results_per_page"
   ]
  },
  {
   "cell_type": "code",
   "execution_count": 14,
   "id": "51ee000f",
   "metadata": {},
   "outputs": [
    {
     "data": {
      "text/plain": [
       "670"
      ]
     },
     "execution_count": 14,
     "metadata": {},
     "output_type": "execute_result"
    }
   ],
   "source": [
    "# Import additional packages for controlling our loop\n",
    "import time, math\n",
    "# Use math.ceil to round up for the total number of pages of results.\n",
    "n_pages = math.ceil((results['total']-n_results)/ results_per_page)\n",
    "n_pages"
   ]
  },
  {
   "cell_type": "code",
   "execution_count": 15,
   "id": "971f57ab",
   "metadata": {},
   "outputs": [],
   "source": [
    "# join new results with old list with extend and save to file\n",
    "previous_results.extend(results['businesses'])  \n",
    "with open(JSON_FILE,'w') as f:\n",
    "     json.dump(previous_results,f)"
   ]
  },
  {
   "cell_type": "code",
   "execution_count": 16,
   "id": "3046878f",
   "metadata": {},
   "outputs": [
    {
     "data": {
      "application/vnd.jupyter.widget-view+json": {
       "model_id": "6fb8729df7304ec0ac3afb22d72be498",
       "version_major": 2,
       "version_minor": 0
      },
      "text/plain": [
       "  0%|          | 0/670 [00:00<?, ?it/s]"
      ]
     },
     "metadata": {},
     "output_type": "display_data"
    },
    {
     "ename": "YelpAPIError",
     "evalue": "VALIDATION_ERROR: Too many results requested, limit+offset must be <= 1000.",
     "output_type": "error",
     "traceback": [
      "\u001b[0;31m---------------------------------------------------------------------------\u001b[0m",
      "\u001b[0;31mYelpAPIError\u001b[0m                              Traceback (most recent call last)",
      "Cell \u001b[0;32mIn [16], line 9\u001b[0m\n\u001b[1;32m      7\u001b[0m n_results \u001b[38;5;241m=\u001b[39m \u001b[38;5;28mlen\u001b[39m(previous_results)\n\u001b[1;32m      8\u001b[0m \u001b[38;5;66;03m## use n_results as the OFFSET \u001b[39;00m\n\u001b[0;32m----> 9\u001b[0m results \u001b[38;5;241m=\u001b[39m \u001b[43myelp_api\u001b[49m\u001b[38;5;241;43m.\u001b[39;49m\u001b[43msearch_query\u001b[49m\u001b[43m(\u001b[49m\u001b[43mlocation\u001b[49m\u001b[38;5;241;43m=\u001b[39;49m\u001b[43mLOCATION\u001b[49m\u001b[43m,\u001b[49m\n\u001b[1;32m     10\u001b[0m \u001b[43m                                \u001b[49m\u001b[43mterm\u001b[49m\u001b[38;5;241;43m=\u001b[39;49m\u001b[43mTERM\u001b[49m\u001b[43m,\u001b[49m\u001b[43m \u001b[49m\n\u001b[1;32m     11\u001b[0m \u001b[43m                                \u001b[49m\u001b[43moffset\u001b[49m\u001b[38;5;241;43m=\u001b[39;49m\u001b[43mn_results\u001b[49m\u001b[43m)\u001b[49m\n\u001b[1;32m     13\u001b[0m \u001b[38;5;66;03m## append new results and save to file\u001b[39;00m\n\u001b[1;32m     14\u001b[0m previous_results\u001b[38;5;241m.\u001b[39mextend(results[\u001b[38;5;124m'\u001b[39m\u001b[38;5;124mbusinesses\u001b[39m\u001b[38;5;124m'\u001b[39m])\n",
      "File \u001b[0;32m~/anaconda3/envs/dojo-env/lib/python3.9/site-packages/yelpapi/yelpapi.py:251\u001b[0m, in \u001b[0;36mYelpAPI.search_query\u001b[0;34m(self, **kwargs)\u001b[0m\n\u001b[1;32m    247\u001b[0m \u001b[38;5;28;01mif\u001b[39;00m \u001b[38;5;129;01mnot\u001b[39;00m kwargs\u001b[38;5;241m.\u001b[39mget(\u001b[38;5;124m'\u001b[39m\u001b[38;5;124mlocation\u001b[39m\u001b[38;5;124m'\u001b[39m) \u001b[38;5;129;01mand\u001b[39;00m (\u001b[38;5;129;01mnot\u001b[39;00m kwargs\u001b[38;5;241m.\u001b[39mget(\u001b[38;5;124m'\u001b[39m\u001b[38;5;124mlatitude\u001b[39m\u001b[38;5;124m'\u001b[39m) \u001b[38;5;129;01mor\u001b[39;00m \u001b[38;5;129;01mnot\u001b[39;00m kwargs\u001b[38;5;241m.\u001b[39mget(\u001b[38;5;124m'\u001b[39m\u001b[38;5;124mlongitude\u001b[39m\u001b[38;5;124m'\u001b[39m)):\n\u001b[1;32m    248\u001b[0m     \u001b[38;5;28;01mraise\u001b[39;00m \u001b[38;5;167;01mValueError\u001b[39;00m(\u001b[38;5;124m'\u001b[39m\u001b[38;5;124mA valid location (parameter \u001b[39m\u001b[38;5;124m\"\u001b[39m\u001b[38;5;124mlocation\u001b[39m\u001b[38;5;124m\"\u001b[39m\u001b[38;5;124m) or latitude/longitude combination \u001b[39m\u001b[38;5;124m'\u001b[39m\n\u001b[1;32m    249\u001b[0m                      \u001b[38;5;124m'\u001b[39m\u001b[38;5;124m(parameters \u001b[39m\u001b[38;5;124m\"\u001b[39m\u001b[38;5;124mlatitude\u001b[39m\u001b[38;5;124m\"\u001b[39m\u001b[38;5;124m and \u001b[39m\u001b[38;5;124m\"\u001b[39m\u001b[38;5;124mlongitude\u001b[39m\u001b[38;5;124m\"\u001b[39m\u001b[38;5;124m) must be provided.\u001b[39m\u001b[38;5;124m'\u001b[39m)\n\u001b[0;32m--> 251\u001b[0m \u001b[38;5;28;01mreturn\u001b[39;00m \u001b[38;5;28;43mself\u001b[39;49m\u001b[38;5;241;43m.\u001b[39;49m\u001b[43m_query\u001b[49m\u001b[43m(\u001b[49m\u001b[43mSEARCH_API_URL\u001b[49m\u001b[43m,\u001b[49m\u001b[43m \u001b[49m\u001b[38;5;241;43m*\u001b[39;49m\u001b[38;5;241;43m*\u001b[39;49m\u001b[43mkwargs\u001b[49m\u001b[43m)\u001b[49m\n",
      "File \u001b[0;32m~/anaconda3/envs/dojo-env/lib/python3.9/site-packages/yelpapi/yelpapi.py:299\u001b[0m, in \u001b[0;36mYelpAPI._query\u001b[0;34m(self, url, **kwargs)\u001b[0m\n\u001b[1;32m    295\u001b[0m \u001b[38;5;66;03m# Yelp can return one of many different API errors, so check for one of them.\u001b[39;00m\n\u001b[1;32m    296\u001b[0m \u001b[38;5;66;03m# The Yelp Fusion API does not yet have a complete list of errors, but this is on the TODO list; see\u001b[39;00m\n\u001b[1;32m    297\u001b[0m \u001b[38;5;66;03m# https://github.com/Yelp/yelp-fusion/issues/95 for more info.\u001b[39;00m\n\u001b[1;32m    298\u001b[0m \u001b[38;5;28;01mif\u001b[39;00m \u001b[38;5;124m'\u001b[39m\u001b[38;5;124merror\u001b[39m\u001b[38;5;124m'\u001b[39m \u001b[38;5;129;01min\u001b[39;00m response_json:\n\u001b[0;32m--> 299\u001b[0m     \u001b[38;5;28;01mraise\u001b[39;00m YelpAPI\u001b[38;5;241m.\u001b[39mYelpAPIError(\u001b[38;5;124m'\u001b[39m\u001b[38;5;132;01m{}\u001b[39;00m\u001b[38;5;124m: \u001b[39m\u001b[38;5;132;01m{}\u001b[39;00m\u001b[38;5;124m'\u001b[39m\u001b[38;5;241m.\u001b[39mformat(response_json[\u001b[38;5;124m'\u001b[39m\u001b[38;5;124merror\u001b[39m\u001b[38;5;124m'\u001b[39m][\u001b[38;5;124m'\u001b[39m\u001b[38;5;124mcode\u001b[39m\u001b[38;5;124m'\u001b[39m],\n\u001b[1;32m    300\u001b[0m                                                response_json[\u001b[38;5;124m'\u001b[39m\u001b[38;5;124merror\u001b[39m\u001b[38;5;124m'\u001b[39m][\u001b[38;5;124m'\u001b[39m\u001b[38;5;124mdescription\u001b[39m\u001b[38;5;124m'\u001b[39m]))\n\u001b[1;32m    302\u001b[0m \u001b[38;5;66;03m# we got a good response, so return\u001b[39;00m\n\u001b[1;32m    303\u001b[0m \u001b[38;5;28;01mreturn\u001b[39;00m response_json\n",
      "\u001b[0;31mYelpAPIError\u001b[0m: VALIDATION_ERROR: Too many results requested, limit+offset must be <= 1000."
     ]
    }
   ],
   "source": [
    "for i in tqdm_notebook( range(1,n_pages+1)):\n",
    "    \n",
    "    ## Read in results in progress file and check the length\n",
    "    with open(JSON_FILE, 'r') as f:\n",
    "        previous_results = json.load(f)\n",
    "    ## save number of results for to use as offset\n",
    "    n_results = len(previous_results)\n",
    "    ## use n_results as the OFFSET \n",
    "    results = yelp_api.search_query(location=LOCATION,\n",
    "                                    term=TERM, \n",
    "                                    offset=n_results)\n",
    "    \n",
    "    ## append new results and save to file\n",
    "    previous_results.extend(results['businesses'])\n",
    "    \n",
    "    with open(JSON_FILE,'w') as f:\n",
    "        json.dump(previous_results,f)\n",
    "    \n",
    "    # add a 200ms pause\n",
    "    time.sleep(.2)"
   ]
  },
  {
   "cell_type": "code",
   "execution_count": 17,
   "id": "4ba4b907",
   "metadata": {},
   "outputs": [
    {
     "data": {
      "text/plain": [
       "False"
      ]
     },
     "execution_count": 17,
     "metadata": {},
     "output_type": "execute_result"
    }
   ],
   "source": [
    "os.remove(JSON_FILE)\n",
    "os.path.isfile(JSON_FILE)"
   ]
  },
  {
   "cell_type": "code",
   "execution_count": 18,
   "id": "31ae8903",
   "metadata": {},
   "outputs": [],
   "source": [
    "def create_json_file(JSON_FILE,  delete_if_exists=False):\n",
    "    \n",
    "    ## Check if JSON_FILE exists\n",
    "    file_exists = os.path.isfile(JSON_FILE)\n",
    "    \n",
    "    ## If it DOES exist:\n",
    "    if file_exists == True:\n",
    "        \n",
    "        ## Check if user wants to delete if exists\n",
    "        if delete_if_exists==True:\n",
    "            \n",
    "            print(f\"[!] {JSON_FILE} already exists. Deleting previous file...\")\n",
    "            ## delete file and confirm it no longer exits.\n",
    "            os.remove(JSON_FILE)\n",
    "            ## Recursive call to function after old file deleted\n",
    "            create_json_file(JSON_FILE,delete_if_exists=False)\n",
    "        else:\n",
    "            print(f\"[i] {JSON_FILE} already exists.\")            \n",
    "            \n",
    "            \n",
    "    ## If it does NOT exist:\n",
    "    else:\n",
    "        \n",
    "        ## INFORM USER AND SAVE EMPTY LIST\n",
    "        print(f\"[i] {JSON_FILE} not found. Saving empty list to new file.\")\n",
    "        \n",
    "        ## CREATE ANY NEEDED FOLDERS\n",
    "        # Get the Folder Name only\n",
    "        folder = os.path.dirname(JSON_FILE)\n",
    "        \n",
    "        ## If JSON_FILE included a folder:\n",
    "        if len(folder)>0:\n",
    "            # create the folder\n",
    "            os.makedirs(folder,exist_ok=True)\n",
    "        ## Save empty list to start the json file\n",
    "        with open(JSON_FILE,'w') as f:\n",
    "            json.dump([],f) "
   ]
  },
  {
   "cell_type": "code",
   "execution_count": 19,
   "id": "6a1ae955",
   "metadata": {},
   "outputs": [
    {
     "name": "stdout",
     "output_type": "stream",
     "text": [
      "[i] Data/results_in_progress_CA_burritos.json not found. Saving empty list to new file.\n",
      "- 0 previous results found.\n"
     ]
    },
    {
     "data": {
      "text/plain": [
       "700"
      ]
     },
     "execution_count": 19,
     "metadata": {},
     "output_type": "execute_result"
    }
   ],
   "source": [
    "## Create a new empty json file (exist the previous if it exists)\n",
    "create_json_file(JSON_FILE, delete_if_exists=True)\n",
    "## Load previous results and use len of results for offset\n",
    "with open(JSON_FILE,'r') as f:\n",
    "    previous_results = json.load(f)\n",
    "    \n",
    "## set offset based on previous results\n",
    "n_results = len(previous_results)\n",
    "print(f'- {n_results} previous results found.')\n",
    "# use our yelp_api variable's search_query method to perform our API call\n",
    "results = yelp_api.search_query(location=LOCATION,\n",
    "                                term=TERM,\n",
    "                               offset=n_results)\n",
    "## How many results total?\n",
    "total_results = results['total']\n",
    "## How many did we get the details for?\n",
    "results_per_page = len(results['businesses'])\n",
    "# Use math.ceil to round up for the total number of pages of results.\n",
    "n_pages = math.ceil((results['total']-n_results)/ results_per_page)\n",
    "n_pages"
   ]
  },
  {
   "cell_type": "code",
   "execution_count": 20,
   "id": "6185148f",
   "metadata": {},
   "outputs": [
    {
     "data": {
      "application/vnd.jupyter.widget-view+json": {
       "model_id": "3708dd2e39654284b9557e42c6921130",
       "version_major": 2,
       "version_minor": 0
      },
      "text/plain": [
       "  0%|          | 0/700 [00:00<?, ?it/s]"
      ]
     },
     "metadata": {},
     "output_type": "display_data"
    },
    {
     "name": "stdout",
     "output_type": "stream",
     "text": [
      "Exceeded 1000 api calls. Stopping loop.\n"
     ]
    }
   ],
   "source": [
    "\n",
    "for i in tqdm_notebook( range(1,n_pages+1)):\n",
    "    \n",
    "    ## Read in results in progress file and check the length\n",
    "    with open(JSON_FILE, 'r') as f:\n",
    "        previous_results = json.load(f)\n",
    "    ## save number of results for to use as offset\n",
    "    n_results = len(previous_results)\n",
    "    \n",
    "    if (n_results + results_per_page) > 1000:\n",
    "        print('Exceeded 1000 api calls. Stopping loop.')\n",
    "        break\n",
    "    \n",
    "    ## use n_results as the OFFSET \n",
    "    results = yelp_api.search_query(location=LOCATION,\n",
    "                                    term=TERM, \n",
    "                                    offset=n_results)\n",
    "    \n",
    "    \n",
    "    \n",
    "    ## append new results and save to file\n",
    "    previous_results.extend(results['businesses'])\n",
    "    \n",
    "    # display(previous_results)\n",
    "    with open(JSON_FILE,'w') as f:\n",
    "        json.dump(previous_results,f)\n",
    "    \n",
    "    time.sleep(.2)"
   ]
  },
  {
   "cell_type": "code",
   "execution_count": 21,
   "id": "d5616229",
   "metadata": {},
   "outputs": [
    {
     "data": {
      "text/html": [
       "<div>\n",
       "<style scoped>\n",
       "    .dataframe tbody tr th:only-of-type {\n",
       "        vertical-align: middle;\n",
       "    }\n",
       "\n",
       "    .dataframe tbody tr th {\n",
       "        vertical-align: top;\n",
       "    }\n",
       "\n",
       "    .dataframe thead th {\n",
       "        text-align: right;\n",
       "    }\n",
       "</style>\n",
       "<table border=\"1\" class=\"dataframe\">\n",
       "  <thead>\n",
       "    <tr style=\"text-align: right;\">\n",
       "      <th></th>\n",
       "      <th>id</th>\n",
       "      <th>alias</th>\n",
       "      <th>name</th>\n",
       "      <th>image_url</th>\n",
       "      <th>is_closed</th>\n",
       "      <th>url</th>\n",
       "      <th>review_count</th>\n",
       "      <th>categories</th>\n",
       "      <th>rating</th>\n",
       "      <th>coordinates</th>\n",
       "      <th>transactions</th>\n",
       "      <th>price</th>\n",
       "      <th>location</th>\n",
       "      <th>phone</th>\n",
       "      <th>display_phone</th>\n",
       "      <th>distance</th>\n",
       "    </tr>\n",
       "  </thead>\n",
       "  <tbody>\n",
       "    <tr>\n",
       "      <th>0</th>\n",
       "      <td>1OXJaygVHAEGooC5gsH_Pg</td>\n",
       "      <td>la-esquina-los-angeles</td>\n",
       "      <td>La Esquina</td>\n",
       "      <td>https://s3-media1.fl.yelpcdn.com/bphoto/R8rSoL...</td>\n",
       "      <td>False</td>\n",
       "      <td>https://www.yelp.com/biz/la-esquina-los-angele...</td>\n",
       "      <td>417</td>\n",
       "      <td>[{'alias': 'mexican', 'title': 'Mexican'}]</td>\n",
       "      <td>4.5</td>\n",
       "      <td>{'latitude': 34.0292220404164, 'longitude': -1...</td>\n",
       "      <td>[pickup]</td>\n",
       "      <td>$$</td>\n",
       "      <td>{'address1': '8905 Venice Blvd', 'address2': N...</td>\n",
       "      <td>+14242586396</td>\n",
       "      <td>(424) 258-6396</td>\n",
       "      <td>2224.279501</td>\n",
       "    </tr>\n",
       "    <tr>\n",
       "      <th>1</th>\n",
       "      <td>Lu2osODR3Cu9kTfaav3JiQ</td>\n",
       "      <td>brothers-cousins-tacos-los-angeles</td>\n",
       "      <td>Brothers Cousins Tacos</td>\n",
       "      <td>https://s3-media3.fl.yelpcdn.com/bphoto/vymeNo...</td>\n",
       "      <td>False</td>\n",
       "      <td>https://www.yelp.com/biz/brothers-cousins-taco...</td>\n",
       "      <td>355</td>\n",
       "      <td>[{'alias': 'tacos', 'title': 'Tacos'}, {'alias...</td>\n",
       "      <td>4.5</td>\n",
       "      <td>{'latitude': 34.02628342963417, 'longitude': -...</td>\n",
       "      <td>[]</td>\n",
       "      <td>$</td>\n",
       "      <td>{'address1': '11341 National Blvd', 'address2'...</td>\n",
       "      <td></td>\n",
       "      <td></td>\n",
       "      <td>2172.713987</td>\n",
       "    </tr>\n",
       "    <tr>\n",
       "      <th>2</th>\n",
       "      <td>9oQnnXSTo8i2TliFPktxLg</td>\n",
       "      <td>sonoritas-prime-tacos-los-angeles</td>\n",
       "      <td>Sonoritas Prime Tacos</td>\n",
       "      <td>https://s3-media2.fl.yelpcdn.com/bphoto/VH_w93...</td>\n",
       "      <td>False</td>\n",
       "      <td>https://www.yelp.com/biz/sonoritas-prime-tacos...</td>\n",
       "      <td>1805</td>\n",
       "      <td>[{'alias': 'mexican', 'title': 'Mexican'}]</td>\n",
       "      <td>4.0</td>\n",
       "      <td>{'latitude': 34.04093, 'longitude': -118.44328}</td>\n",
       "      <td>[pickup, delivery]</td>\n",
       "      <td>$$</td>\n",
       "      <td>{'address1': '2004 Sawtelle Blvd', 'address2':...</td>\n",
       "      <td>+13104449100</td>\n",
       "      <td>(310) 444-9100</td>\n",
       "      <td>3795.454943</td>\n",
       "    </tr>\n",
       "    <tr>\n",
       "      <th>3</th>\n",
       "      <td>mkhPLrwfYOJi_Y9ore3LqQ</td>\n",
       "      <td>el-barrio-neighborhood-tacos-los-angeles</td>\n",
       "      <td>El Barrio Neighborhood Tacos</td>\n",
       "      <td>https://s3-media1.fl.yelpcdn.com/bphoto/ylj-7u...</td>\n",
       "      <td>False</td>\n",
       "      <td>https://www.yelp.com/biz/el-barrio-neighborhoo...</td>\n",
       "      <td>311</td>\n",
       "      <td>[{'alias': 'mexican', 'title': 'Mexican'}, {'a...</td>\n",
       "      <td>4.0</td>\n",
       "      <td>{'latitude': 34.0246774, 'longitude': -118.411...</td>\n",
       "      <td>[pickup, delivery]</td>\n",
       "      <td>$$</td>\n",
       "      <td>{'address1': '3500 Overland Ave', 'address2': ...</td>\n",
       "      <td>+14246034073</td>\n",
       "      <td>(424) 603-4073</td>\n",
       "      <td>509.384088</td>\n",
       "    </tr>\n",
       "    <tr>\n",
       "      <th>4</th>\n",
       "      <td>VqxDHnbjfwwJXON7ERabOw</td>\n",
       "      <td>hermanito-los-angeles</td>\n",
       "      <td>Hermanito</td>\n",
       "      <td>https://s3-media1.fl.yelpcdn.com/bphoto/5vyBgJ...</td>\n",
       "      <td>False</td>\n",
       "      <td>https://www.yelp.com/biz/hermanito-los-angeles...</td>\n",
       "      <td>611</td>\n",
       "      <td>[{'alias': 'mexican', 'title': 'Mexican'}, {'a...</td>\n",
       "      <td>4.5</td>\n",
       "      <td>{'latitude': 34.04048617, 'longitude': -118.44...</td>\n",
       "      <td>[pickup, delivery]</td>\n",
       "      <td>$$$</td>\n",
       "      <td>{'address1': '2024 Sawtelle Blvd', 'address2':...</td>\n",
       "      <td>+14243882585</td>\n",
       "      <td>(424) 388-2585</td>\n",
       "      <td>3733.554572</td>\n",
       "    </tr>\n",
       "  </tbody>\n",
       "</table>\n",
       "</div>"
      ],
      "text/plain": [
       "                       id                                     alias  \\\n",
       "0  1OXJaygVHAEGooC5gsH_Pg                    la-esquina-los-angeles   \n",
       "1  Lu2osODR3Cu9kTfaav3JiQ        brothers-cousins-tacos-los-angeles   \n",
       "2  9oQnnXSTo8i2TliFPktxLg         sonoritas-prime-tacos-los-angeles   \n",
       "3  mkhPLrwfYOJi_Y9ore3LqQ  el-barrio-neighborhood-tacos-los-angeles   \n",
       "4  VqxDHnbjfwwJXON7ERabOw                     hermanito-los-angeles   \n",
       "\n",
       "                           name  \\\n",
       "0                    La Esquina   \n",
       "1        Brothers Cousins Tacos   \n",
       "2         Sonoritas Prime Tacos   \n",
       "3  El Barrio Neighborhood Tacos   \n",
       "4                     Hermanito   \n",
       "\n",
       "                                           image_url  is_closed  \\\n",
       "0  https://s3-media1.fl.yelpcdn.com/bphoto/R8rSoL...      False   \n",
       "1  https://s3-media3.fl.yelpcdn.com/bphoto/vymeNo...      False   \n",
       "2  https://s3-media2.fl.yelpcdn.com/bphoto/VH_w93...      False   \n",
       "3  https://s3-media1.fl.yelpcdn.com/bphoto/ylj-7u...      False   \n",
       "4  https://s3-media1.fl.yelpcdn.com/bphoto/5vyBgJ...      False   \n",
       "\n",
       "                                                 url  review_count  \\\n",
       "0  https://www.yelp.com/biz/la-esquina-los-angele...           417   \n",
       "1  https://www.yelp.com/biz/brothers-cousins-taco...           355   \n",
       "2  https://www.yelp.com/biz/sonoritas-prime-tacos...          1805   \n",
       "3  https://www.yelp.com/biz/el-barrio-neighborhoo...           311   \n",
       "4  https://www.yelp.com/biz/hermanito-los-angeles...           611   \n",
       "\n",
       "                                          categories  rating  \\\n",
       "0         [{'alias': 'mexican', 'title': 'Mexican'}]     4.5   \n",
       "1  [{'alias': 'tacos', 'title': 'Tacos'}, {'alias...     4.5   \n",
       "2         [{'alias': 'mexican', 'title': 'Mexican'}]     4.0   \n",
       "3  [{'alias': 'mexican', 'title': 'Mexican'}, {'a...     4.0   \n",
       "4  [{'alias': 'mexican', 'title': 'Mexican'}, {'a...     4.5   \n",
       "\n",
       "                                         coordinates        transactions  \\\n",
       "0  {'latitude': 34.0292220404164, 'longitude': -1...            [pickup]   \n",
       "1  {'latitude': 34.02628342963417, 'longitude': -...                  []   \n",
       "2    {'latitude': 34.04093, 'longitude': -118.44328}  [pickup, delivery]   \n",
       "3  {'latitude': 34.0246774, 'longitude': -118.411...  [pickup, delivery]   \n",
       "4  {'latitude': 34.04048617, 'longitude': -118.44...  [pickup, delivery]   \n",
       "\n",
       "  price                                           location         phone  \\\n",
       "0    $$  {'address1': '8905 Venice Blvd', 'address2': N...  +14242586396   \n",
       "1     $  {'address1': '11341 National Blvd', 'address2'...                 \n",
       "2    $$  {'address1': '2004 Sawtelle Blvd', 'address2':...  +13104449100   \n",
       "3    $$  {'address1': '3500 Overland Ave', 'address2': ...  +14246034073   \n",
       "4   $$$  {'address1': '2024 Sawtelle Blvd', 'address2':...  +14243882585   \n",
       "\n",
       "    display_phone     distance  \n",
       "0  (424) 258-6396  2224.279501  \n",
       "1                  2172.713987  \n",
       "2  (310) 444-9100  3795.454943  \n",
       "3  (424) 603-4073   509.384088  \n",
       "4  (424) 388-2585  3733.554572  "
      ]
     },
     "metadata": {},
     "output_type": "display_data"
    },
    {
     "data": {
      "text/html": [
       "<div>\n",
       "<style scoped>\n",
       "    .dataframe tbody tr th:only-of-type {\n",
       "        vertical-align: middle;\n",
       "    }\n",
       "\n",
       "    .dataframe tbody tr th {\n",
       "        vertical-align: top;\n",
       "    }\n",
       "\n",
       "    .dataframe thead th {\n",
       "        text-align: right;\n",
       "    }\n",
       "</style>\n",
       "<table border=\"1\" class=\"dataframe\">\n",
       "  <thead>\n",
       "    <tr style=\"text-align: right;\">\n",
       "      <th></th>\n",
       "      <th>id</th>\n",
       "      <th>alias</th>\n",
       "      <th>name</th>\n",
       "      <th>image_url</th>\n",
       "      <th>is_closed</th>\n",
       "      <th>url</th>\n",
       "      <th>review_count</th>\n",
       "      <th>categories</th>\n",
       "      <th>rating</th>\n",
       "      <th>coordinates</th>\n",
       "      <th>transactions</th>\n",
       "      <th>price</th>\n",
       "      <th>location</th>\n",
       "      <th>phone</th>\n",
       "      <th>display_phone</th>\n",
       "      <th>distance</th>\n",
       "    </tr>\n",
       "  </thead>\n",
       "  <tbody>\n",
       "    <tr>\n",
       "      <th>995</th>\n",
       "      <td>5xFBQiB4Jcy9sI2fUHfcpg</td>\n",
       "      <td>mariscos-jalisco-los-angeles-3</td>\n",
       "      <td>Mariscos Jalisco</td>\n",
       "      <td>https://s3-media2.fl.yelpcdn.com/bphoto/I-bHSJ...</td>\n",
       "      <td>False</td>\n",
       "      <td>https://www.yelp.com/biz/mariscos-jalisco-los-...</td>\n",
       "      <td>1121</td>\n",
       "      <td>[{'alias': 'mexican', 'title': 'Mexican'}, {'a...</td>\n",
       "      <td>4.5</td>\n",
       "      <td>{'latitude': 34.021051495081835, 'longitude': ...</td>\n",
       "      <td>[delivery]</td>\n",
       "      <td>$</td>\n",
       "      <td>{'address1': '3040 E Olympic Blvd', 'address2'...</td>\n",
       "      <td>+13235286701</td>\n",
       "      <td>(323) 528-6701</td>\n",
       "      <td>18233.615117</td>\n",
       "    </tr>\n",
       "    <tr>\n",
       "      <th>996</th>\n",
       "      <td>w7c062yyS5vPoLU2Nhkc4g</td>\n",
       "      <td>tacos-el-porvenir-los-angeles</td>\n",
       "      <td>Tacos El Porvenir</td>\n",
       "      <td>https://s3-media3.fl.yelpcdn.com/bphoto/sUsb35...</td>\n",
       "      <td>False</td>\n",
       "      <td>https://www.yelp.com/biz/tacos-el-porvenir-los...</td>\n",
       "      <td>5</td>\n",
       "      <td>[{'alias': 'mexican', 'title': 'Mexican'}]</td>\n",
       "      <td>5.0</td>\n",
       "      <td>{'latitude': 34.0200805664062, 'longitude': -1...</td>\n",
       "      <td>[delivery]</td>\n",
       "      <td>NaN</td>\n",
       "      <td>{'address1': '3000 Maple Ave', 'address2': '',...</td>\n",
       "      <td>+12137411260</td>\n",
       "      <td>(213) 741-1260</td>\n",
       "      <td>13205.747339</td>\n",
       "    </tr>\n",
       "    <tr>\n",
       "      <th>997</th>\n",
       "      <td>4ds8wN-SeL5Z1m9MABWhKQ</td>\n",
       "      <td>habanero-mexican-grill-san-gabriel</td>\n",
       "      <td>Habanero Mexican Grill</td>\n",
       "      <td>https://s3-media4.fl.yelpcdn.com/bphoto/VTHv97...</td>\n",
       "      <td>False</td>\n",
       "      <td>https://www.yelp.com/biz/habanero-mexican-gril...</td>\n",
       "      <td>321</td>\n",
       "      <td>[{'alias': 'mexican', 'title': 'Mexican'}]</td>\n",
       "      <td>4.0</td>\n",
       "      <td>{'latitude': 34.1279029, 'longitude': -118.072...</td>\n",
       "      <td>[delivery]</td>\n",
       "      <td>$</td>\n",
       "      <td>{'address1': '9003 E Fairview Ave', 'address2'...</td>\n",
       "      <td>+16262861914</td>\n",
       "      <td>(626) 286-1914</td>\n",
       "      <td>33341.420804</td>\n",
       "    </tr>\n",
       "    <tr>\n",
       "      <th>998</th>\n",
       "      <td>u37xj9aNiFDpYdrYlJSh6Q</td>\n",
       "      <td>bubbakoos-burritos-lancaster-2</td>\n",
       "      <td>Bubbakoo's Burritos</td>\n",
       "      <td>https://s3-media2.fl.yelpcdn.com/bphoto/EKBIFV...</td>\n",
       "      <td>False</td>\n",
       "      <td>https://www.yelp.com/biz/bubbakoos-burritos-la...</td>\n",
       "      <td>133</td>\n",
       "      <td>[{'alias': 'mexican', 'title': 'Mexican'}, {'a...</td>\n",
       "      <td>3.0</td>\n",
       "      <td>{'latitude': 34.6897114, 'longitude': -118.166...</td>\n",
       "      <td>[pickup, delivery]</td>\n",
       "      <td>$$</td>\n",
       "      <td>{'address1': '2053 West Avenue J', 'address2':...</td>\n",
       "      <td>+16617231200</td>\n",
       "      <td>(661) 723-1200</td>\n",
       "      <td>77755.505549</td>\n",
       "    </tr>\n",
       "    <tr>\n",
       "      <th>999</th>\n",
       "      <td>7VKXmKrwl1eFiH2iwkoMzg</td>\n",
       "      <td>bros-tacos-mission-hills</td>\n",
       "      <td>Bros Tacos</td>\n",
       "      <td>https://s3-media3.fl.yelpcdn.com/bphoto/27mb8g...</td>\n",
       "      <td>False</td>\n",
       "      <td>https://www.yelp.com/biz/bros-tacos-mission-hi...</td>\n",
       "      <td>130</td>\n",
       "      <td>[{'alias': 'hotdogs', 'title': 'Fast Food'}, {...</td>\n",
       "      <td>4.0</td>\n",
       "      <td>{'latitude': 34.273967787503494, 'longitude': ...</td>\n",
       "      <td>[pickup, delivery]</td>\n",
       "      <td>$$</td>\n",
       "      <td>{'address1': '11220 Laurel Canyon Blvd', 'addr...</td>\n",
       "      <td>+18186390110</td>\n",
       "      <td>(818) 639-0110</td>\n",
       "      <td>28433.867830</td>\n",
       "    </tr>\n",
       "  </tbody>\n",
       "</table>\n",
       "</div>"
      ],
      "text/plain": [
       "                         id                               alias  \\\n",
       "995  5xFBQiB4Jcy9sI2fUHfcpg      mariscos-jalisco-los-angeles-3   \n",
       "996  w7c062yyS5vPoLU2Nhkc4g       tacos-el-porvenir-los-angeles   \n",
       "997  4ds8wN-SeL5Z1m9MABWhKQ  habanero-mexican-grill-san-gabriel   \n",
       "998  u37xj9aNiFDpYdrYlJSh6Q      bubbakoos-burritos-lancaster-2   \n",
       "999  7VKXmKrwl1eFiH2iwkoMzg            bros-tacos-mission-hills   \n",
       "\n",
       "                       name  \\\n",
       "995        Mariscos Jalisco   \n",
       "996       Tacos El Porvenir   \n",
       "997  Habanero Mexican Grill   \n",
       "998     Bubbakoo's Burritos   \n",
       "999              Bros Tacos   \n",
       "\n",
       "                                             image_url  is_closed  \\\n",
       "995  https://s3-media2.fl.yelpcdn.com/bphoto/I-bHSJ...      False   \n",
       "996  https://s3-media3.fl.yelpcdn.com/bphoto/sUsb35...      False   \n",
       "997  https://s3-media4.fl.yelpcdn.com/bphoto/VTHv97...      False   \n",
       "998  https://s3-media2.fl.yelpcdn.com/bphoto/EKBIFV...      False   \n",
       "999  https://s3-media3.fl.yelpcdn.com/bphoto/27mb8g...      False   \n",
       "\n",
       "                                                   url  review_count  \\\n",
       "995  https://www.yelp.com/biz/mariscos-jalisco-los-...          1121   \n",
       "996  https://www.yelp.com/biz/tacos-el-porvenir-los...             5   \n",
       "997  https://www.yelp.com/biz/habanero-mexican-gril...           321   \n",
       "998  https://www.yelp.com/biz/bubbakoos-burritos-la...           133   \n",
       "999  https://www.yelp.com/biz/bros-tacos-mission-hi...           130   \n",
       "\n",
       "                                            categories  rating  \\\n",
       "995  [{'alias': 'mexican', 'title': 'Mexican'}, {'a...     4.5   \n",
       "996         [{'alias': 'mexican', 'title': 'Mexican'}]     5.0   \n",
       "997         [{'alias': 'mexican', 'title': 'Mexican'}]     4.0   \n",
       "998  [{'alias': 'mexican', 'title': 'Mexican'}, {'a...     3.0   \n",
       "999  [{'alias': 'hotdogs', 'title': 'Fast Food'}, {...     4.0   \n",
       "\n",
       "                                           coordinates        transactions  \\\n",
       "995  {'latitude': 34.021051495081835, 'longitude': ...          [delivery]   \n",
       "996  {'latitude': 34.0200805664062, 'longitude': -1...          [delivery]   \n",
       "997  {'latitude': 34.1279029, 'longitude': -118.072...          [delivery]   \n",
       "998  {'latitude': 34.6897114, 'longitude': -118.166...  [pickup, delivery]   \n",
       "999  {'latitude': 34.273967787503494, 'longitude': ...  [pickup, delivery]   \n",
       "\n",
       "    price                                           location         phone  \\\n",
       "995     $  {'address1': '3040 E Olympic Blvd', 'address2'...  +13235286701   \n",
       "996   NaN  {'address1': '3000 Maple Ave', 'address2': '',...  +12137411260   \n",
       "997     $  {'address1': '9003 E Fairview Ave', 'address2'...  +16262861914   \n",
       "998    $$  {'address1': '2053 West Avenue J', 'address2':...  +16617231200   \n",
       "999    $$  {'address1': '11220 Laurel Canyon Blvd', 'addr...  +18186390110   \n",
       "\n",
       "      display_phone      distance  \n",
       "995  (323) 528-6701  18233.615117  \n",
       "996  (213) 741-1260  13205.747339  \n",
       "997  (626) 286-1914  33341.420804  \n",
       "998  (661) 723-1200  77755.505549  \n",
       "999  (818) 639-0110  28433.867830  "
      ]
     },
     "metadata": {},
     "output_type": "display_data"
    }
   ],
   "source": [
    "# load final results\n",
    "final_df = pd.read_json(JSON_FILE)\n",
    "display(final_df.head(), final_df.tail())"
   ]
  }
 ],
 "metadata": {
  "kernelspec": {
   "display_name": "Python (dojo-env)",
   "language": "python",
   "name": "dojo-env"
  },
  "language_info": {
   "codemirror_mode": {
    "name": "ipython",
    "version": 3
   },
   "file_extension": ".py",
   "mimetype": "text/x-python",
   "name": "python",
   "nbconvert_exporter": "python",
   "pygments_lexer": "ipython3",
   "version": "3.9.15"
  },
  "toc": {
   "base_numbering": 1,
   "nav_menu": {},
   "number_sections": true,
   "sideBar": true,
   "skip_h1_title": false,
   "title_cell": "Table of Contents",
   "title_sidebar": "Contents",
   "toc_cell": false,
   "toc_position": {},
   "toc_section_display": true,
   "toc_window_display": false
  }
 },
 "nbformat": 4,
 "nbformat_minor": 5
}
